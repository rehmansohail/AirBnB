{
 "cells": [
  {
   "cell_type": "code",
   "execution_count": 1,
   "id": "747d03f3",
   "metadata": {},
   "outputs": [],
   "source": [
    "import pandas as pd"
   ]
  },
  {
   "cell_type": "code",
   "execution_count": 2,
   "id": "0b1ff136",
   "metadata": {},
   "outputs": [],
   "source": [
    "df = pd.read_csv('listings.csv')"
   ]
  },
  {
   "cell_type": "code",
   "execution_count": 3,
   "id": "6e0ed804",
   "metadata": {},
   "outputs": [
    {
     "data": {
      "text/html": [
       "<div>\n",
       "<style scoped>\n",
       "    .dataframe tbody tr th:only-of-type {\n",
       "        vertical-align: middle;\n",
       "    }\n",
       "\n",
       "    .dataframe tbody tr th {\n",
       "        vertical-align: top;\n",
       "    }\n",
       "\n",
       "    .dataframe thead th {\n",
       "        text-align: right;\n",
       "    }\n",
       "</style>\n",
       "<table border=\"1\" class=\"dataframe\">\n",
       "  <thead>\n",
       "    <tr style=\"text-align: right;\">\n",
       "      <th></th>\n",
       "      <th>id</th>\n",
       "      <th>name</th>\n",
       "      <th>host_id</th>\n",
       "      <th>host_name</th>\n",
       "      <th>neighbourhood_group</th>\n",
       "      <th>neighbourhood</th>\n",
       "      <th>latitude</th>\n",
       "      <th>longitude</th>\n",
       "      <th>room_type</th>\n",
       "      <th>price</th>\n",
       "      <th>minimum_nights</th>\n",
       "      <th>number_of_reviews</th>\n",
       "      <th>last_review</th>\n",
       "      <th>reviews_per_month</th>\n",
       "      <th>calculated_host_listings_count</th>\n",
       "      <th>availability_365</th>\n",
       "      <th>number_of_reviews_ltm</th>\n",
       "      <th>license</th>\n",
       "    </tr>\n",
       "  </thead>\n",
       "  <tbody>\n",
       "    <tr>\n",
       "      <th>0</th>\n",
       "      <td>1489424</td>\n",
       "      <td>Welcoming, easygoing, comfy bed, entire level</td>\n",
       "      <td>5294164</td>\n",
       "      <td>Efrat</td>\n",
       "      <td>NaN</td>\n",
       "      <td>FOURTEENTH WARD</td>\n",
       "      <td>42.667190</td>\n",
       "      <td>-73.815800</td>\n",
       "      <td>Private room</td>\n",
       "      <td>50.0</td>\n",
       "      <td>1</td>\n",
       "      <td>242</td>\n",
       "      <td>2024-02-10</td>\n",
       "      <td>1.91</td>\n",
       "      <td>1</td>\n",
       "      <td>0</td>\n",
       "      <td>48</td>\n",
       "      <td>NaN</td>\n",
       "    </tr>\n",
       "    <tr>\n",
       "      <th>1</th>\n",
       "      <td>2992450</td>\n",
       "      <td>Luxury 2 bedroom apartment</td>\n",
       "      <td>4621559</td>\n",
       "      <td>Kenneth</td>\n",
       "      <td>NaN</td>\n",
       "      <td>THIRD WARD</td>\n",
       "      <td>42.657890</td>\n",
       "      <td>-73.753700</td>\n",
       "      <td>Entire home/apt</td>\n",
       "      <td>70.0</td>\n",
       "      <td>28</td>\n",
       "      <td>9</td>\n",
       "      <td>2022-08-17</td>\n",
       "      <td>0.08</td>\n",
       "      <td>1</td>\n",
       "      <td>349</td>\n",
       "      <td>0</td>\n",
       "      <td>NaN</td>\n",
       "    </tr>\n",
       "    <tr>\n",
       "      <th>2</th>\n",
       "      <td>3820211</td>\n",
       "      <td>Restored Precinct in Center Sq. w/Parking</td>\n",
       "      <td>19648678</td>\n",
       "      <td>Terra</td>\n",
       "      <td>NaN</td>\n",
       "      <td>SIXTH WARD</td>\n",
       "      <td>42.652220</td>\n",
       "      <td>-73.767240</td>\n",
       "      <td>Entire home/apt</td>\n",
       "      <td>125.0</td>\n",
       "      <td>2</td>\n",
       "      <td>291</td>\n",
       "      <td>2023-11-19</td>\n",
       "      <td>2.52</td>\n",
       "      <td>4</td>\n",
       "      <td>357</td>\n",
       "      <td>8</td>\n",
       "      <td>NaN</td>\n",
       "    </tr>\n",
       "    <tr>\n",
       "      <th>3</th>\n",
       "      <td>5651579</td>\n",
       "      <td>Large studio apt  by Capital Center &amp; ESP@</td>\n",
       "      <td>29288920</td>\n",
       "      <td>Gregg</td>\n",
       "      <td>NaN</td>\n",
       "      <td>SECOND WARD</td>\n",
       "      <td>42.646150</td>\n",
       "      <td>-73.759660</td>\n",
       "      <td>Entire home/apt</td>\n",
       "      <td>68.0</td>\n",
       "      <td>2</td>\n",
       "      <td>333</td>\n",
       "      <td>2024-02-01</td>\n",
       "      <td>3.12</td>\n",
       "      <td>2</td>\n",
       "      <td>148</td>\n",
       "      <td>28</td>\n",
       "      <td>NaN</td>\n",
       "    </tr>\n",
       "    <tr>\n",
       "      <th>4</th>\n",
       "      <td>6623339</td>\n",
       "      <td>Center Sq. Loft in Converted Precinct w/ Parking</td>\n",
       "      <td>19648678</td>\n",
       "      <td>Terra</td>\n",
       "      <td>NaN</td>\n",
       "      <td>SIXTH WARD</td>\n",
       "      <td>42.652220</td>\n",
       "      <td>-73.767240</td>\n",
       "      <td>Entire home/apt</td>\n",
       "      <td>140.0</td>\n",
       "      <td>1</td>\n",
       "      <td>306</td>\n",
       "      <td>2023-12-26</td>\n",
       "      <td>2.89</td>\n",
       "      <td>4</td>\n",
       "      <td>0</td>\n",
       "      <td>5</td>\n",
       "      <td>NaN</td>\n",
       "    </tr>\n",
       "    <tr>\n",
       "      <th>...</th>\n",
       "      <td>...</td>\n",
       "      <td>...</td>\n",
       "      <td>...</td>\n",
       "      <td>...</td>\n",
       "      <td>...</td>\n",
       "      <td>...</td>\n",
       "      <td>...</td>\n",
       "      <td>...</td>\n",
       "      <td>...</td>\n",
       "      <td>...</td>\n",
       "      <td>...</td>\n",
       "      <td>...</td>\n",
       "      <td>...</td>\n",
       "      <td>...</td>\n",
       "      <td>...</td>\n",
       "      <td>...</td>\n",
       "      <td>...</td>\n",
       "      <td>...</td>\n",
       "    </tr>\n",
       "    <tr>\n",
       "      <th>402</th>\n",
       "      <td>1072781767409521866</td>\n",
       "      <td>The Bluebird’s Nest</td>\n",
       "      <td>426223840</td>\n",
       "      <td>Antonio</td>\n",
       "      <td>NaN</td>\n",
       "      <td>ELEVENTH WARD</td>\n",
       "      <td>42.663916</td>\n",
       "      <td>-73.777869</td>\n",
       "      <td>Entire home/apt</td>\n",
       "      <td>117.0</td>\n",
       "      <td>1</td>\n",
       "      <td>0</td>\n",
       "      <td>NaN</td>\n",
       "      <td>NaN</td>\n",
       "      <td>2</td>\n",
       "      <td>0</td>\n",
       "      <td>0</td>\n",
       "      <td>NaN</td>\n",
       "    </tr>\n",
       "    <tr>\n",
       "      <th>403</th>\n",
       "      <td>1073179963201889958</td>\n",
       "      <td>In the heart of Albany</td>\n",
       "      <td>31994990</td>\n",
       "      <td>G.G.</td>\n",
       "      <td>NaN</td>\n",
       "      <td>SEVENTH WARD</td>\n",
       "      <td>42.644729</td>\n",
       "      <td>-73.776412</td>\n",
       "      <td>Entire home/apt</td>\n",
       "      <td>53.0</td>\n",
       "      <td>30</td>\n",
       "      <td>0</td>\n",
       "      <td>NaN</td>\n",
       "      <td>NaN</td>\n",
       "      <td>2</td>\n",
       "      <td>271</td>\n",
       "      <td>0</td>\n",
       "      <td>NaN</td>\n",
       "    </tr>\n",
       "    <tr>\n",
       "      <th>404</th>\n",
       "      <td>1074653929117126641</td>\n",
       "      <td>Room available</td>\n",
       "      <td>480004905</td>\n",
       "      <td>Ramiz</td>\n",
       "      <td>NaN</td>\n",
       "      <td>ELEVENTH WARD</td>\n",
       "      <td>42.662827</td>\n",
       "      <td>-73.774371</td>\n",
       "      <td>Private room</td>\n",
       "      <td>60.0</td>\n",
       "      <td>1</td>\n",
       "      <td>0</td>\n",
       "      <td>NaN</td>\n",
       "      <td>NaN</td>\n",
       "      <td>2</td>\n",
       "      <td>269</td>\n",
       "      <td>0</td>\n",
       "      <td>NaN</td>\n",
       "    </tr>\n",
       "    <tr>\n",
       "      <th>405</th>\n",
       "      <td>1075444056381274297</td>\n",
       "      <td>The Tangerine Door</td>\n",
       "      <td>542733174</td>\n",
       "      <td>Rebecca</td>\n",
       "      <td>NaN</td>\n",
       "      <td>TWELFTH WARD</td>\n",
       "      <td>42.679082</td>\n",
       "      <td>-73.795049</td>\n",
       "      <td>Entire home/apt</td>\n",
       "      <td>110.0</td>\n",
       "      <td>2</td>\n",
       "      <td>1</td>\n",
       "      <td>2024-02-04</td>\n",
       "      <td>1.00</td>\n",
       "      <td>1</td>\n",
       "      <td>241</td>\n",
       "      <td>1</td>\n",
       "      <td>NaN</td>\n",
       "    </tr>\n",
       "    <tr>\n",
       "      <th>406</th>\n",
       "      <td>1079742757364810916</td>\n",
       "      <td>Lark St Oasis: Parking &amp; Laundry</td>\n",
       "      <td>119340359</td>\n",
       "      <td>Lori</td>\n",
       "      <td>NaN</td>\n",
       "      <td>SIXTH WARD</td>\n",
       "      <td>42.656071</td>\n",
       "      <td>-73.763453</td>\n",
       "      <td>Entire home/apt</td>\n",
       "      <td>98.0</td>\n",
       "      <td>28</td>\n",
       "      <td>0</td>\n",
       "      <td>NaN</td>\n",
       "      <td>NaN</td>\n",
       "      <td>2</td>\n",
       "      <td>267</td>\n",
       "      <td>0</td>\n",
       "      <td>NaN</td>\n",
       "    </tr>\n",
       "  </tbody>\n",
       "</table>\n",
       "<p>407 rows × 18 columns</p>\n",
       "</div>"
      ],
      "text/plain": [
       "                      id                                              name  \\\n",
       "0                1489424     Welcoming, easygoing, comfy bed, entire level   \n",
       "1                2992450                        Luxury 2 bedroom apartment   \n",
       "2                3820211         Restored Precinct in Center Sq. w/Parking   \n",
       "3                5651579        Large studio apt  by Capital Center & ESP@   \n",
       "4                6623339  Center Sq. Loft in Converted Precinct w/ Parking   \n",
       "..                   ...                                               ...   \n",
       "402  1072781767409521866                               The Bluebird’s Nest   \n",
       "403  1073179963201889958                            In the heart of Albany   \n",
       "404  1074653929117126641                                    Room available   \n",
       "405  1075444056381274297                                The Tangerine Door   \n",
       "406  1079742757364810916                  Lark St Oasis: Parking & Laundry   \n",
       "\n",
       "       host_id host_name  neighbourhood_group    neighbourhood   latitude  \\\n",
       "0      5294164     Efrat                  NaN  FOURTEENTH WARD  42.667190   \n",
       "1      4621559   Kenneth                  NaN       THIRD WARD  42.657890   \n",
       "2     19648678     Terra                  NaN       SIXTH WARD  42.652220   \n",
       "3     29288920     Gregg                  NaN      SECOND WARD  42.646150   \n",
       "4     19648678     Terra                  NaN       SIXTH WARD  42.652220   \n",
       "..         ...       ...                  ...              ...        ...   \n",
       "402  426223840   Antonio                  NaN    ELEVENTH WARD  42.663916   \n",
       "403   31994990      G.G.                  NaN     SEVENTH WARD  42.644729   \n",
       "404  480004905     Ramiz                  NaN    ELEVENTH WARD  42.662827   \n",
       "405  542733174   Rebecca                  NaN     TWELFTH WARD  42.679082   \n",
       "406  119340359      Lori                  NaN       SIXTH WARD  42.656071   \n",
       "\n",
       "     longitude        room_type  price  minimum_nights  number_of_reviews  \\\n",
       "0   -73.815800     Private room   50.0               1                242   \n",
       "1   -73.753700  Entire home/apt   70.0              28                  9   \n",
       "2   -73.767240  Entire home/apt  125.0               2                291   \n",
       "3   -73.759660  Entire home/apt   68.0               2                333   \n",
       "4   -73.767240  Entire home/apt  140.0               1                306   \n",
       "..         ...              ...    ...             ...                ...   \n",
       "402 -73.777869  Entire home/apt  117.0               1                  0   \n",
       "403 -73.776412  Entire home/apt   53.0              30                  0   \n",
       "404 -73.774371     Private room   60.0               1                  0   \n",
       "405 -73.795049  Entire home/apt  110.0               2                  1   \n",
       "406 -73.763453  Entire home/apt   98.0              28                  0   \n",
       "\n",
       "    last_review  reviews_per_month  calculated_host_listings_count  \\\n",
       "0    2024-02-10               1.91                               1   \n",
       "1    2022-08-17               0.08                               1   \n",
       "2    2023-11-19               2.52                               4   \n",
       "3    2024-02-01               3.12                               2   \n",
       "4    2023-12-26               2.89                               4   \n",
       "..          ...                ...                             ...   \n",
       "402         NaN                NaN                               2   \n",
       "403         NaN                NaN                               2   \n",
       "404         NaN                NaN                               2   \n",
       "405  2024-02-04               1.00                               1   \n",
       "406         NaN                NaN                               2   \n",
       "\n",
       "     availability_365  number_of_reviews_ltm  license  \n",
       "0                   0                     48      NaN  \n",
       "1                 349                      0      NaN  \n",
       "2                 357                      8      NaN  \n",
       "3                 148                     28      NaN  \n",
       "4                   0                      5      NaN  \n",
       "..                ...                    ...      ...  \n",
       "402                 0                      0      NaN  \n",
       "403               271                      0      NaN  \n",
       "404               269                      0      NaN  \n",
       "405               241                      1      NaN  \n",
       "406               267                      0      NaN  \n",
       "\n",
       "[407 rows x 18 columns]"
      ]
     },
     "execution_count": 3,
     "metadata": {},
     "output_type": "execute_result"
    }
   ],
   "source": [
    "df"
   ]
  },
  {
   "cell_type": "code",
   "execution_count": 4,
   "id": "a70bccf0",
   "metadata": {},
   "outputs": [],
   "source": [
    "column_names = df.columns.tolist()"
   ]
  },
  {
   "cell_type": "code",
   "execution_count": 5,
   "id": "05c4edcc",
   "metadata": {},
   "outputs": [
    {
     "name": "stdout",
     "output_type": "stream",
     "text": [
      "['id', 'name', 'host_id', 'host_name', 'neighbourhood_group', 'neighbourhood', 'latitude', 'longitude', 'room_type', 'price', 'minimum_nights', 'number_of_reviews', 'last_review', 'reviews_per_month', 'calculated_host_listings_count', 'availability_365', 'number_of_reviews_ltm', 'license']\n"
     ]
    }
   ],
   "source": [
    "print(column_names)"
   ]
  },
  {
   "cell_type": "code",
   "execution_count": 6,
   "id": "d0b69f57",
   "metadata": {},
   "outputs": [
    {
     "name": "stdout",
     "output_type": "stream",
     "text": [
      "     ID  Count\n",
      "0     1    190\n",
      "1     2    104\n",
      "2     3     37\n",
      "3     4     19\n",
      "4    30     13\n",
      "5    10     10\n",
      "6     7      7\n",
      "7     5      6\n",
      "8    13      5\n",
      "9    14      4\n",
      "10   28      3\n",
      "11    6      2\n",
      "12   90      1\n",
      "13   21      1\n",
      "14  180      1\n",
      "15   70      1\n",
      "16  365      1\n",
      "17   60      1\n",
      "18   15      1\n"
     ]
    }
   ],
   "source": [
    "id_counts = df['minimum_nights'].value_counts()\n",
    "id_counts_df = id_counts.reset_index()\n",
    "id_counts_df.columns = ['ID', 'Count']\n",
    "print(id_counts_df)"
   ]
  },
  {
   "cell_type": "code",
   "execution_count": 7,
   "id": "c30ff6b5",
   "metadata": {},
   "outputs": [
    {
     "data": {
      "text/plain": [
       "0         Private room\n",
       "1      Entire home/apt\n",
       "2      Entire home/apt\n",
       "3      Entire home/apt\n",
       "4      Entire home/apt\n",
       "            ...       \n",
       "402    Entire home/apt\n",
       "403    Entire home/apt\n",
       "404       Private room\n",
       "405    Entire home/apt\n",
       "406    Entire home/apt\n",
       "Name: room_type, Length: 407, dtype: object"
      ]
     },
     "execution_count": 7,
     "metadata": {},
     "output_type": "execute_result"
    }
   ],
   "source": [
    "df[:]['room_type']"
   ]
  },
  {
   "cell_type": "code",
   "execution_count": 8,
   "id": "2397ded6",
   "metadata": {},
   "outputs": [],
   "source": [
    "columns_to_remove = ['neighbourhood_group','latitude','longitude','license']\n",
    "df = df.drop(columns=columns_to_remove)"
   ]
  },
  {
   "cell_type": "code",
   "execution_count": 9,
   "id": "e1a42752",
   "metadata": {},
   "outputs": [
    {
     "data": {
      "text/plain": [
       "0         Private room\n",
       "1      Entire home/apt\n",
       "2      Entire home/apt\n",
       "3      Entire home/apt\n",
       "4      Entire home/apt\n",
       "            ...       \n",
       "402    Entire home/apt\n",
       "403    Entire home/apt\n",
       "404       Private room\n",
       "405    Entire home/apt\n",
       "406    Entire home/apt\n",
       "Name: room_type, Length: 407, dtype: object"
      ]
     },
     "execution_count": 9,
     "metadata": {},
     "output_type": "execute_result"
    }
   ],
   "source": [
    "df[:]['room_type']"
   ]
  },
  {
   "cell_type": "code",
   "execution_count": 10,
   "id": "0ffd4ec8",
   "metadata": {},
   "outputs": [
    {
     "name": "stdout",
     "output_type": "stream",
     "text": [
      "         room_type  Count\n",
      "0  Entire home/apt    285\n",
      "1     Private room    119\n",
      "2      Shared room      3\n"
     ]
    }
   ],
   "source": [
    "#which room type does AirBnB candidates like?\n",
    "room_counts = df['room_type'].value_counts()\n",
    "room_counts_df = room_counts.reset_index()\n",
    "room_counts_df.columns = ['room_type', 'Count']\n",
    "print(room_counts_df)"
   ]
  },
  {
   "cell_type": "code",
   "execution_count": 11,
   "id": "26953eab",
   "metadata": {},
   "outputs": [],
   "source": [
    "import matplotlib.pyplot as plt\n",
    "\n",
    "total_rooms = room_counts_df['Count'].sum()\n",
    "\n",
    "# Calculate the percentage likes for each room type\n",
    "room_counts_df['percentage_likes'] = (room_counts_df['Count'] / total_rooms) * 100"
   ]
  },
  {
   "cell_type": "code",
   "execution_count": 12,
   "id": "8871b379",
   "metadata": {},
   "outputs": [
    {
     "data": {
      "text/html": [
       "<div>\n",
       "<style scoped>\n",
       "    .dataframe tbody tr th:only-of-type {\n",
       "        vertical-align: middle;\n",
       "    }\n",
       "\n",
       "    .dataframe tbody tr th {\n",
       "        vertical-align: top;\n",
       "    }\n",
       "\n",
       "    .dataframe thead th {\n",
       "        text-align: right;\n",
       "    }\n",
       "</style>\n",
       "<table border=\"1\" class=\"dataframe\">\n",
       "  <thead>\n",
       "    <tr style=\"text-align: right;\">\n",
       "      <th></th>\n",
       "      <th>room_type</th>\n",
       "      <th>Count</th>\n",
       "      <th>percentage_likes</th>\n",
       "    </tr>\n",
       "  </thead>\n",
       "  <tbody>\n",
       "    <tr>\n",
       "      <th>0</th>\n",
       "      <td>Entire home/apt</td>\n",
       "      <td>285</td>\n",
       "      <td>70.024570</td>\n",
       "    </tr>\n",
       "    <tr>\n",
       "      <th>1</th>\n",
       "      <td>Private room</td>\n",
       "      <td>119</td>\n",
       "      <td>29.238329</td>\n",
       "    </tr>\n",
       "    <tr>\n",
       "      <th>2</th>\n",
       "      <td>Shared room</td>\n",
       "      <td>3</td>\n",
       "      <td>0.737101</td>\n",
       "    </tr>\n",
       "  </tbody>\n",
       "</table>\n",
       "</div>"
      ],
      "text/plain": [
       "         room_type  Count  percentage_likes\n",
       "0  Entire home/apt    285         70.024570\n",
       "1     Private room    119         29.238329\n",
       "2      Shared room      3          0.737101"
      ]
     },
     "execution_count": 12,
     "metadata": {},
     "output_type": "execute_result"
    }
   ],
   "source": [
    "room_counts_df"
   ]
  },
  {
   "cell_type": "code",
   "execution_count": 13,
   "id": "219d4312",
   "metadata": {},
   "outputs": [
    {
     "data": {
      "image/png": "[encoded data removed]",
      "text/plain": [
       "<Figure size 1000x600 with 1 Axes>"
      ]
     },
     "metadata": {},
     "output_type": "display_data"
    }
   ],
   "source": [
    "plt.figure(figsize=(10, 6))\n",
    "plt.bar(room_counts_df['room_type'], room_counts_df['percentage_likes'])\n",
    "plt.xlabel('Room Type')\n",
    "plt.ylabel('Percentage Likes')\n",
    "plt.title('Percentage Likes for Each Room Type')\n",
    "plt.xticks(rotation=45)  # Rotate x-axis labels for better readability\n",
    "plt.show()"
   ]
  },
  {
   "cell_type": "code",
   "execution_count": 14,
   "id": "c44ec4de",
   "metadata": {},
   "outputs": [
    {
     "name": "stdout",
     "output_type": "stream",
     "text": [
      "    min_nights  Count\n",
      "0            1    190\n",
      "1            2    104\n",
      "2            3     37\n",
      "3            4     19\n",
      "4           30     13\n",
      "5           10     10\n",
      "6            7      7\n",
      "7            5      6\n",
      "8           13      5\n",
      "9           14      4\n",
      "10          28      3\n",
      "11           6      2\n",
      "12          90      1\n",
      "13          21      1\n",
      "14         180      1\n",
      "15          70      1\n",
      "16         365      1\n",
      "17          60      1\n",
      "18          15      1\n"
     ]
    }
   ],
   "source": [
    "minimum_nights_counts = df['minimum_nights'].value_counts()\n",
    "minimum_nights_counts = id_counts.reset_index()\n",
    "minimum_nights_counts.columns = ['min_nights', 'Count']\n",
    "print(minimum_nights_counts)"
   ]
  },
  {
   "cell_type": "code",
   "execution_count": 15,
   "id": "cd863910",
   "metadata": {},
   "outputs": [
    {
     "name": "stdout",
     "output_type": "stream",
     "text": [
      "    min_nights  Count\n",
      "0            1    190\n",
      "1            2    104\n",
      "2            3     37\n",
      "3            4     19\n",
      "7            5      6\n",
      "11           6      2\n",
      "6            7      7\n",
      "5           10     10\n",
      "8           13      5\n",
      "9           14      4\n",
      "18          15      1\n",
      "13          21      1\n",
      "10          28      3\n",
      "4           30     13\n",
      "17          60      1\n",
      "15          70      1\n",
      "12          90      1\n",
      "14         180      1\n",
      "16         365      1\n"
     ]
    }
   ],
   "source": [
    "#how many minimum night stay does AirBnb candidates prefer?\n",
    "\n",
    "sorted_minimum_nights_counts = minimum_nights_counts.sort_values(by='min_nights')\n",
    "\n",
    "# Print the sorted DataFrame\n",
    "print(sorted_minimum_nights_counts)"
   ]
  },
  {
   "cell_type": "code",
   "execution_count": 16,
   "id": "c5c1ee99",
   "metadata": {},
   "outputs": [],
   "source": [
    "values = sorted_minimum_nights_counts['min_nights'][:10]\n",
    "frequencies = sorted_minimum_nights_counts['Count'][:10]"
   ]
  },
  {
   "cell_type": "code",
   "execution_count": 17,
   "id": "4d70db09",
   "metadata": {},
   "outputs": [
    {
     "name": "stdout",
     "output_type": "stream",
     "text": [
      "[1, 2, 3, 4, 5, 6, 7, 10, 13, 14]\n"
     ]
    }
   ],
   "source": [
    "print(list(values))"
   ]
  },
  {
   "cell_type": "code",
   "execution_count": 18,
   "id": "96d989d6",
   "metadata": {},
   "outputs": [
    {
     "data": {
      "image/png": "[encoded data removed]",
      "text/plain": [
       "<Figure size 1000x600 with 1 Axes>"
      ]
     },
     "metadata": {},
     "output_type": "display_data"
    }
   ],
   "source": [
    "plt.figure(figsize=(10, 6))\n",
    "plt.bar(range(len(values)), frequencies, width=0.5)  # Adjust the number of bins as needed\n",
    "plt.xlabel('No. of minimum nights')\n",
    "plt.ylabel('No. of listings')\n",
    "plt.title('Number of Listings with Minimum Night stay')\n",
    "plt.xticks(range(len(values)), values)\n",
    "plt.show()"
   ]
  },
  {
   "cell_type": "code",
   "execution_count": 19,
   "id": "6bd45516",
   "metadata": {},
   "outputs": [
    {
     "name": "stdout",
     "output_type": "stream",
     "text": [
      "['id', 'name', 'host_id', 'host_name', 'neighbourhood_group', 'neighbourhood', 'latitude', 'longitude', 'room_type', 'price', 'minimum_nights', 'number_of_reviews', 'last_review', 'reviews_per_month', 'calculated_host_listings_count', 'availability_365', 'number_of_reviews_ltm', 'license']\n"
     ]
    }
   ],
   "source": [
    "print(column_names)"
   ]
  },
  {
   "cell_type": "code",
   "execution_count": 20,
   "id": "f27a05c8",
   "metadata": {},
   "outputs": [
    {
     "name": "stdout",
     "output_type": "stream",
     "text": [
      "    host_name  Total_listings\n",
      "141     Aaron               1\n",
      "12       Abba               6\n",
      "44       Adam               2\n",
      "59       Adem               2\n",
      "30      Aggie               3\n",
      "..        ...             ...\n",
      "171     Uniah               1\n",
      "17   Urbangem               6\n",
      "62    Vorakij               2\n",
      "148     Wayne               1\n",
      "82        Yan               1\n",
      "\n",
      "[178 rows x 2 columns]\n"
     ]
    }
   ],
   "source": [
    "popular_host = df['host_name'].value_counts().reset_index()\n",
    "popular_host.columns = ['host_name', 'Total_listings']\n",
    "popular_host = popular_host.sort_values(by='host_name')\n",
    "print(popular_host)"
   ]
  },
  {
   "cell_type": "code",
   "execution_count": 21,
   "id": "69393ceb",
   "metadata": {},
   "outputs": [
    {
     "data": {
      "text/plain": [
       "0         Private room\n",
       "1      Entire home/apt\n",
       "2      Entire home/apt\n",
       "3      Entire home/apt\n",
       "4      Entire home/apt\n",
       "            ...       \n",
       "402    Entire home/apt\n",
       "403    Entire home/apt\n",
       "404       Private room\n",
       "405    Entire home/apt\n",
       "406    Entire home/apt\n",
       "Name: room_type, Length: 407, dtype: object"
      ]
     },
     "execution_count": 21,
     "metadata": {},
     "output_type": "execute_result"
    }
   ],
   "source": [
    "df[:]['room_type']"
   ]
  },
  {
   "cell_type": "code",
   "execution_count": 22,
   "id": "6880ea25",
   "metadata": {},
   "outputs": [
    {
     "name": "stdout",
     "output_type": "stream",
     "text": [
      "    host_name  Entire home/apt  Private room  Shared room\n",
      "0       Aaron                0             1            0\n",
      "1        Abba                5             1            0\n",
      "2        Adam                0             2            0\n",
      "3        Adem                2             0            0\n",
      "4       Aggie                3             0            0\n",
      "..        ...              ...           ...          ...\n",
      "173     Uniah                1             0            0\n",
      "174  Urbangem                3             3            0\n",
      "175   Vorakij                2             0            0\n",
      "176     Wayne                1             0            0\n",
      "177       Yan                0             1            0\n",
      "\n",
      "[178 rows x 4 columns]\n"
     ]
    }
   ],
   "source": [
    "rooms_count_df = df.groupby(['host_name', 'room_type']).size().unstack(fill_value=0).reset_index()\n",
    "\n",
    "# Rename the columns for better clarity\n",
    "rooms_count_df.columns.name = None\n",
    "\n",
    "# Print the resulting DataFrame\n",
    "print(rooms_count_df)"
   ]
  },
  {
   "cell_type": "code",
   "execution_count": 23,
   "id": "c6f4455d",
   "metadata": {},
   "outputs": [
    {
     "name": "stdout",
     "output_type": "stream",
     "text": [
      "     host_name  Entire home/apt  Private room  Shared room  Total_listings\n",
      "40       Diana               20             2            0              22\n",
      "101      Linda               15             1            0              16\n",
      "50   Elizabeth               10             3            0              13\n",
      "17       Argus                1            11            0              12\n",
      "164      Terra                4             6            0              10\n",
      "..         ...              ...           ...          ...             ...\n",
      "71      JShing                1             0            0               1\n",
      "69    Hyacinth                0             1            0               1\n",
      "68          He                1             0            0               1\n",
      "67       Hasan                1             0            0               1\n",
      "177        Yan                0             1            0               1\n",
      "\n",
      "[178 rows x 5 columns]\n"
     ]
    }
   ],
   "source": [
    "#popular hosts\n",
    "merged_popular_host = pd.merge(rooms_count_df, popular_host, on='host_name', how='outer')\n",
    "merged_popular_host = merged_popular_host.sort_values(by='Total_listings', ascending = False)\n",
    "print(merged_popular_host)"
   ]
  },
  {
   "cell_type": "code",
   "execution_count": null,
   "id": "1914eee8",
   "metadata": {},
   "outputs": [],
   "source": []
  }
 ],
 "metadata": {
  "kernelspec": {
   "display_name": "Python 3 (ipykernel)",
   "language": "python",
   "name": "python3"
  },
  "language_info": {
   "codemirror_mode": {
    "name": "ipython",
    "version": 3
   },
   "file_extension": ".py",
   "mimetype": "text/x-python",
   "name": "python",
   "nbconvert_exporter": "python",
   "pygments_lexer": "ipython3",
   "version": "3.11.5"
  }
 },
 "nbformat": 4,
 "nbformat_minor": 5
}
